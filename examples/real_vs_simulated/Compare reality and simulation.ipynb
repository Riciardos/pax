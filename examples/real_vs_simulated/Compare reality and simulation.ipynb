{
 "metadata": {
  "name": "",
  "signature": "sha256:d6ee763b4b209b1428f2af24dabf28b99aff7d48ee635bfe01e9e233b92cead1"
 },
 "nbformat": 3,
 "nbformat_minor": 0,
 "worksheets": [
  {
   "cells": [
    {
     "cell_type": "code",
     "collapsed": false,
     "input": [
      "\"\"\"\n",
      "Compares real and simulated data\n",
      "Useful to test and improve peak classification and simulator - data agreement\n",
      "\n",
      "Make sure you run get_data.py first, this will run pax to process the necessary data.\n",
      "\"\"\""
     ],
     "language": "python",
     "metadata": {},
     "outputs": []
    },
    {
     "cell_type": "code",
     "collapsed": false,
     "input": [
      "import numpy as np\n",
      "import matplotlib.pyplot as plt\n",
      "from scipy import stats\n",
      "%matplotlib inline\n",
      "import h5py\n",
      "\n",
      "from pax import units\n",
      "dt = 10 * units.ns"
     ],
     "language": "python",
     "metadata": {},
     "outputs": [],
     "prompt_number": 3
    },
    {
     "cell_type": "code",
     "collapsed": false,
     "input": [
      "# Load the real & fake data sets\n",
      "stores = {\n",
      "    'real' : h5py.File('xe100_120402_2000_000000.hdf5'),\n",
      "    'fake_s1s' : h5py.File('fake_s1s.hdf5'),\n",
      "    'fake_s2s' : h5py.File('fake_s2s.hdf5'),\n",
      "}\n",
      "peak_data = {data_type: store['Peak'] for data_type, store in stores.items()}\n",
      "extra_peak_data = {data_type: {} for data_type, store in stores.items()}"
     ],
     "language": "python",
     "metadata": {},
     "outputs": [],
     "prompt_number": 8
    },
    {
     "cell_type": "code",
     "collapsed": false,
     "input": [
      "# Set the peak types for the fake peaks\n",
      "# peak_data['fake_s1s']['type'] = 's1'\n",
      "# peak_data['fake_s2s']['type'] = 's2'"
     ],
     "language": "python",
     "metadata": {},
     "outputs": []
    },
    {
     "cell_type": "code",
     "collapsed": false,
     "input": [
      "# Add additional fields to the peak data\n",
      "cpstime={}\n",
      "for data_type in peak_data.keys():\n",
      "    cps = stores[data_type]['Hit']\n",
      "    cpstime[data_type] = cps['index_of_maximum'] * dt\n",
      "    pd = peak_data[data_type]\n",
      "    epd = extra_peak_data[data_type]\n",
      "    epd['n_channel_peaks'] = cps_grouped.size()\n",
      "    epd['stdev'] = cps_grouped['time'].std()\n",
      "    epd['mad'] = pd['median_absolute_deviation']\n",
      "    epd['mad_stdev_ratio'] =  pd['mad'] /  pd['stdev']\n",
      "    epd['skew'] = cps_grouped['time'].aggregate(lambda x: stats.skew(x, bias=False))\n",
      "    epd['kurtosis'] = cps_grouped['time'].aggregate(lambda x: stats.kurtosis(x, bias=False))"
     ],
     "language": "python",
     "metadata": {},
     "outputs": [
      {
       "ename": "ValueError",
       "evalue": "No such field for indexing: time",
       "output_type": "pyerr",
       "traceback": [
        "\u001b[1;31m---------------------------------------------------------------------------\u001b[0m\n\u001b[1;31mValueError\u001b[0m                                Traceback (most recent call last)",
        "\u001b[1;32m<ipython-input-9-8ffcca9bcd83>\u001b[0m in \u001b[0;36m<module>\u001b[1;34m()\u001b[0m\n\u001b[0;32m      3\u001b[0m \u001b[1;32mfor\u001b[0m \u001b[0mdata_type\u001b[0m \u001b[1;32min\u001b[0m \u001b[0mpeak_data\u001b[0m\u001b[1;33m.\u001b[0m\u001b[0mkeys\u001b[0m\u001b[1;33m(\u001b[0m\u001b[1;33m)\u001b[0m\u001b[1;33m:\u001b[0m\u001b[1;33m\u001b[0m\u001b[0m\n\u001b[0;32m      4\u001b[0m     \u001b[0mcps\u001b[0m \u001b[1;33m=\u001b[0m \u001b[0mstores\u001b[0m\u001b[1;33m[\u001b[0m\u001b[0mdata_type\u001b[0m\u001b[1;33m]\u001b[0m\u001b[1;33m[\u001b[0m\u001b[1;34m'Hit'\u001b[0m\u001b[1;33m]\u001b[0m\u001b[1;33m\u001b[0m\u001b[0m\n\u001b[1;32m----> 5\u001b[1;33m     \u001b[0mcps\u001b[0m\u001b[1;33m[\u001b[0m\u001b[1;34m'time'\u001b[0m\u001b[1;33m]\u001b[0m \u001b[1;33m=\u001b[0m \u001b[0mcps\u001b[0m\u001b[1;33m[\u001b[0m\u001b[1;34m'index_of_maximum'\u001b[0m\u001b[1;33m]\u001b[0m \u001b[1;33m*\u001b[0m \u001b[0mdt\u001b[0m\u001b[1;33m\u001b[0m\u001b[0m\n\u001b[0m\u001b[0;32m      6\u001b[0m     \u001b[0mcps_grouped\u001b[0m \u001b[1;33m=\u001b[0m \u001b[0mcps\u001b[0m\u001b[1;33m.\u001b[0m\u001b[0mgroupby\u001b[0m\u001b[1;33m(\u001b[0m\u001b[0mlevel\u001b[0m\u001b[1;33m=\u001b[0m\u001b[1;33m(\u001b[0m\u001b[1;36m0\u001b[0m\u001b[1;33m,\u001b[0m\u001b[1;36m1\u001b[0m\u001b[1;33m)\u001b[0m\u001b[1;33m)\u001b[0m\u001b[1;33m\u001b[0m\u001b[0m\n\u001b[0;32m      7\u001b[0m     \u001b[0mpd\u001b[0m \u001b[1;33m=\u001b[0m \u001b[0mpeak_data\u001b[0m\u001b[1;33m[\u001b[0m\u001b[0mdata_type\u001b[0m\u001b[1;33m]\u001b[0m\u001b[1;33m\u001b[0m\u001b[0m\n",
        "\u001b[1;32mC:\\Anaconda3\\lib\\site-packages\\h5py\\_hl\\dataset.py\u001b[0m in \u001b[0;36m__setitem__\u001b[1;34m(self, args, val)\u001b[0m\n\u001b[0;32m    497\u001b[0m                 \u001b[1;31m# Single field selected for write, from a non-array source\u001b[0m\u001b[1;33m\u001b[0m\u001b[1;33m\u001b[0m\u001b[0m\n\u001b[0;32m    498\u001b[0m                 \u001b[1;32mif\u001b[0m \u001b[1;32mnot\u001b[0m \u001b[0mnames\u001b[0m\u001b[1;33m[\u001b[0m\u001b[1;36m0\u001b[0m\u001b[1;33m]\u001b[0m \u001b[1;32min\u001b[0m \u001b[0mself\u001b[0m\u001b[1;33m.\u001b[0m\u001b[0mdtype\u001b[0m\u001b[1;33m.\u001b[0m\u001b[0mfields\u001b[0m\u001b[1;33m:\u001b[0m\u001b[1;33m\u001b[0m\u001b[0m\n\u001b[1;32m--> 499\u001b[1;33m                     \u001b[1;32mraise\u001b[0m \u001b[0mValueError\u001b[0m\u001b[1;33m(\u001b[0m\u001b[1;34m\"No such field for indexing: %s\"\u001b[0m \u001b[1;33m%\u001b[0m \u001b[0mnames\u001b[0m\u001b[1;33m[\u001b[0m\u001b[1;36m0\u001b[0m\u001b[1;33m]\u001b[0m\u001b[1;33m)\u001b[0m\u001b[1;33m\u001b[0m\u001b[0m\n\u001b[0m\u001b[0;32m    500\u001b[0m                 \u001b[0mdtype\u001b[0m \u001b[1;33m=\u001b[0m \u001b[0mself\u001b[0m\u001b[1;33m.\u001b[0m\u001b[0mdtype\u001b[0m\u001b[1;33m.\u001b[0m\u001b[0mfields\u001b[0m\u001b[1;33m[\u001b[0m\u001b[0mnames\u001b[0m\u001b[1;33m[\u001b[0m\u001b[1;36m0\u001b[0m\u001b[1;33m]\u001b[0m\u001b[1;33m]\u001b[0m\u001b[1;33m[\u001b[0m\u001b[1;36m0\u001b[0m\u001b[1;33m]\u001b[0m\u001b[1;33m\u001b[0m\u001b[0m\n\u001b[0;32m    501\u001b[0m                 \u001b[0mcast_compound\u001b[0m \u001b[1;33m=\u001b[0m \u001b[1;32mTrue\u001b[0m\u001b[1;33m\u001b[0m\u001b[0m\n",
        "\u001b[1;31mValueError\u001b[0m: No such field for indexing: time"
       ]
      }
     ],
     "prompt_number": 9
    },
    {
     "cell_type": "code",
     "collapsed": false,
     "input": [
      "field_label = {\n",
      "    'area': 'Area (pe)',\n",
      "    'median_absolute_deviation': 'photon time MAD (ns)',\n",
      "    'mad': 'photon time MAD (ns)',\n",
      "    'stdev': 'photon time stdev (ns)',\n",
      "    'n_channel_peaks': 'number of channel peaks',\n",
      "    'skew': 'skewness of photon times)',\n",
      "    'kurtosis': 'kurtosis of photon times'\n",
      "}"
     ],
     "language": "python",
     "metadata": {},
     "outputs": []
    },
    {
     "cell_type": "code",
     "collapsed": false,
     "input": [
      "def compare_data(fieldx, fieldy, cut=None, show_datasets='all'):\n",
      "    \n",
      "    # Syntax sugar\n",
      "    if not isinstance(show_datasets, (list, tuple)):\n",
      "        show_datasets = [show_datasets]\n",
      "    \n",
      "    plt.figure(figsize=(12,7))\n",
      "    \n",
      "    for data_type, color in zip(tuple(sorted(peak_data.keys(), reverse=True)), ('gray', 'green', 'red')):\n",
      "        if show_datasets != ['all'] and data_type not in show_datasets:\n",
      "            continue\n",
      "            \n",
      "        pd = peak_data[data_type]\n",
      "        if cut is not None:\n",
      "            pd = pd[cut(pd)]\n",
      "            \n",
      "        plt.scatter(pd[fieldx], \n",
      "                    pd[fieldy],\n",
      "                    marker='.' if data_type == 'real' else 'x', \n",
      "                    edgecolors='none' if data_type == 'real' else color, \n",
      "                    s=20, \n",
      "                    alpha=0.6 if data_type == 'real' else 0.3,\n",
      "                    c=color,\n",
      "                    label=data_type)\n",
      "        \n",
      "    plt.xlabel(field_label.get(fieldx, fieldx))\n",
      "    plt.ylabel(field_label.get(fieldy, fieldy))\n",
      "    plt.legend(loc='best')"
     ],
     "language": "python",
     "metadata": {},
     "outputs": []
    },
    {
     "cell_type": "code",
     "collapsed": false,
     "input": [
      "compare_data('area', 'mad')\n",
      "plt.xlim((0.1,10000))\n",
      "plt.xscale('log')\n",
      "plt.ylim((1,20000))\n",
      "plt.yscale('log')\n",
      "plt.legend(loc='lower left');"
     ],
     "language": "python",
     "metadata": {},
     "outputs": []
    },
    {
     "cell_type": "code",
     "collapsed": false,
     "input": [
      "%matplotlib qt"
     ],
     "language": "python",
     "metadata": {},
     "outputs": []
    },
    {
     "cell_type": "code",
     "collapsed": false,
     "input": [
      "compare_data('area', 'mad_stdev_ratio')\n",
      "plt.xlim((0.1,10000))\n",
      "plt.xscale('log')\n",
      "plt.legend(loc='lower left');"
     ],
     "language": "python",
     "metadata": {},
     "outputs": []
    },
    {
     "cell_type": "code",
     "collapsed": false,
     "input": [
      "compare_data('area', 'skew')\n",
      "plt.xlim((0.1,10000))\n",
      "plt.xscale('log')\n",
      "plt.legend(loc='lower left');"
     ],
     "language": "python",
     "metadata": {},
     "outputs": []
    },
    {
     "cell_type": "code",
     "collapsed": false,
     "input": [
      "compare_data('area', 'kurtosis')\n",
      "plt.xlim((0.1,10000))\n",
      "plt.xscale('log')\n",
      "plt.yscale('log')\n",
      "plt.ylim((0.01,1000))\n",
      "plt.legend(loc='lower left')\n",
      "plt.show()"
     ],
     "language": "python",
     "metadata": {},
     "outputs": []
    },
    {
     "cell_type": "code",
     "collapsed": false,
     "input": [
      "compare_data('area', 'skew')\n",
      "plt.xlim((0.1,10000))\n",
      "plt.xscale('log')\n",
      "plt.legend(loc='lower left');\n",
      "plt.ylim((-7,7));"
     ],
     "language": "python",
     "metadata": {},
     "outputs": []
    },
    {
     "cell_type": "code",
     "collapsed": false,
     "input": [
      "compare_data('kurtosis', 'skew')"
     ],
     "language": "python",
     "metadata": {},
     "outputs": []
    },
    {
     "cell_type": "code",
     "collapsed": false,
     "input": [
      "for _, store in stores.items():\n",
      "    store.close()"
     ],
     "language": "python",
     "metadata": {},
     "outputs": []
    },
    {
     "cell_type": "code",
     "collapsed": false,
     "input": [],
     "language": "python",
     "metadata": {},
     "outputs": []
    }
   ],
   "metadata": {}
  }
 ]
}