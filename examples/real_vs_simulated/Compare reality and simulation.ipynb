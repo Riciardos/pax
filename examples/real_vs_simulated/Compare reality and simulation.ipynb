{
 "metadata": {
  "name": "",
  "signature": "sha256:eee7f91b173dcea6bb75f4e32330d8e0e361677f06696fa9e738698b8da819d2"
 },
 "nbformat": 3,
 "nbformat_minor": 0,
 "worksheets": [
  {
   "cells": [
    {
     "cell_type": "code",
     "collapsed": false,
     "input": [
      "\"\"\"\n",
      "Compares real and simulated data\n",
      "Useful to test and improve peak classification and simulator - data agreement\n",
      "\n",
      "Make sure you run get_data.py first, this will run pax to process the necessary data.\n",
      "\"\"\""
     ],
     "language": "python",
     "metadata": {},
     "outputs": []
    },
    {
     "cell_type": "code",
     "collapsed": false,
     "input": [
      "import numpy as np\n",
      "import matplotlib.pyplot as plt\n",
      "from scipy import stats\n",
      "%matplotlib inline\n",
      "import pandas\n",
      "\n",
      "from pax import units\n",
      "dt = 10 * units.ns"
     ],
     "language": "python",
     "metadata": {},
     "outputs": []
    },
    {
     "cell_type": "code",
     "collapsed": false,
     "input": [
      "# Load the real & fake data sets\n",
      "stores = {\n",
      "    'real' : pandas.HDFStore('xe100_120402_2000_000000.hdf'),\n",
      "    'fake_s1s' : pandas.HDFStore('fake_s1s.hdf'),\n",
      "    'fake_s2s' : pandas.HDFStore('fake_s2s.hdf'),\n",
      "}\n",
      "peak_data = {data_type: store['Peak'] for data_type, store in stores.items()}"
     ],
     "language": "python",
     "metadata": {},
     "outputs": []
    },
    {
     "cell_type": "code",
     "collapsed": false,
     "input": [
      "# Set the peak types for the fake peaks\n",
      "peak_data['fake_s1s']['type'] = 's1'\n",
      "peak_data['fake_s2s']['type'] = 's2'"
     ],
     "language": "python",
     "metadata": {},
     "outputs": []
    },
    {
     "cell_type": "code",
     "collapsed": false,
     "input": [
      "# Add additional fields to the peak data\n",
      "for data_type in peak_data.keys():\n",
      "    cps = stores[data_type]['ChannelPeak']\n",
      "    cps['time'] = cps['index_of_maximum'] * dt\n",
      "    cps_grouped = cps.groupby(level=(0,1))\n",
      "    peak_data[data_type]['n_channel_peaks'] = cps_grouped.size()\n",
      "    peak_data[data_type]['stdev'] = cps_grouped['time'].std()\n",
      "    peak_data[data_type]['mad'] = peak_data[data_type]['mean_absolute_deviation']\n",
      "    peak_data[data_type]['mad_stdev_ratio'] =  peak_data[data_type]['mad'] /  peak_data[data_type]['stdev']\n",
      "    peak_data[data_type]['skew'] = cps_grouped['time'].aggregate(lambda x: stats.skew(x, bias=False))\n",
      "    peak_data[data_type]['kurtosis'] = cps_grouped['time'].aggregate(lambda x: stats.kurtosis(x, bias=False))"
     ],
     "language": "python",
     "metadata": {},
     "outputs": []
    },
    {
     "cell_type": "code",
     "collapsed": false,
     "input": [
      "field_label = {\n",
      "    'area': 'Area (pe)',\n",
      "    'mean_absolute_deviation': 'photon time MAD (ns)',\n",
      "    'mad': 'photon time MAD (ns)',\n",
      "    'stdev': 'photon time stdev (ns)',\n",
      "    'n_channel_peaks': 'number of channel peaks',\n",
      "    'skew': 'skewness of photon times)',\n",
      "    'kurtosis': 'kurtosis of photon times'\n",
      "}"
     ],
     "language": "python",
     "metadata": {},
     "outputs": []
    },
    {
     "cell_type": "code",
     "collapsed": false,
     "input": [
      "def compare_data(fieldx, fieldy, cut=None, show_datasets='all'):\n",
      "    \n",
      "    # Syntax sugar\n",
      "    if not isinstance(show_datasets, (list, tuple)):\n",
      "        show_datasets = [show_datasets]\n",
      "    \n",
      "    plt.figure(figsize=(12,7))\n",
      "    \n",
      "    for data_type, color in zip(tuple(sorted(peak_data.keys(), reverse=True)), ('gray', 'green', 'red')):\n",
      "        if show_datasets != ['all'] and data_type not in show_datasets:\n",
      "            continue\n",
      "            \n",
      "        pd = peak_data[data_type]\n",
      "        if cut is not None:\n",
      "            pd = pd[cut(pd)]\n",
      "            \n",
      "        plt.scatter(pd[fieldx], \n",
      "                    pd[fieldy],\n",
      "                    marker='.' if data_type == 'real' else 'x', \n",
      "                    edgecolors='none' if data_type == 'real' else color, \n",
      "                    s=10, \n",
      "                    alpha=0.6 if data_type == 'real' else 0.3,\n",
      "                    c=color,\n",
      "                    label=data_type)\n",
      "        \n",
      "    plt.xlabel(field_label.get(fieldx, fieldx))\n",
      "    plt.ylabel(field_label.get(fieldy, fieldy))\n",
      "    plt.legend(loc='best')"
     ],
     "language": "python",
     "metadata": {},
     "outputs": []
    },
    {
     "cell_type": "code",
     "collapsed": false,
     "input": [
      "compare_data('area', 'mad')\n",
      "plt.xlim((0,50))\n",
      "plt.ylim((0,500));"
     ],
     "language": "python",
     "metadata": {},
     "outputs": []
    },
    {
     "cell_type": "code",
     "collapsed": false,
     "input": [
      "compare_data('area', 'mad_stdev_ratio')\n",
      "plt.xlim((0,100))"
     ],
     "language": "python",
     "metadata": {},
     "outputs": []
    },
    {
     "cell_type": "code",
     "collapsed": false,
     "input": [
      "compare_data('area', 'skew')\n",
      "plt.xlim((0,100))"
     ],
     "language": "python",
     "metadata": {},
     "outputs": []
    },
    {
     "cell_type": "code",
     "collapsed": false,
     "input": [
      "compare_data('area', 'kurtosis')\n",
      "plt.xlim((0,100))\n",
      "plt.ylim((-5,5))"
     ],
     "language": "python",
     "metadata": {},
     "outputs": []
    },
    {
     "cell_type": "code",
     "collapsed": false,
     "input": [
      "compare_data('kurtosis', 'skew')"
     ],
     "language": "python",
     "metadata": {},
     "outputs": []
    },
    {
     "cell_type": "code",
     "collapsed": false,
     "input": [
      "for _, store in stores.items():\n",
      "    store.close()"
     ],
     "language": "python",
     "metadata": {},
     "outputs": []
    }
   ],
   "metadata": {}
  }
 ]
}