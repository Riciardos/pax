{
 "metadata": {
  "name": "",
  "signature": "sha256:82be0a243a7c025cafa54b10993aa7807574a1dd2fec9b6b1e3913d144258517"
 },
 "nbformat": 3,
 "nbformat_minor": 0,
 "worksheets": [
  {
   "cells": [
    {
     "cell_type": "code",
     "collapsed": false,
     "input": [
      "import pandas"
     ],
     "language": "python",
     "metadata": {},
     "outputs": []
    },
    {
     "cell_type": "code",
     "collapsed": false,
     "input": [
      "data = pandas.read_csv('all120326_1544.gain', sep=\"\\(Hz\\)\\s*|\\s+\")\n",
      "data.head()"
     ],
     "language": "python",
     "metadata": {},
     "outputs": []
    },
    {
     "cell_type": "code",
     "collapsed": false,
     "input": [
      "def make_config_for(data_column, title=None, values_per_line=5, max_field_length=18, for_pmt_zero=0):\n",
      "    tab = \"    \"\n",
      "    if title is None:\n",
      "        title=data_column\n",
      "    result = str(title) + \" = [\\n\"\n",
      "    if for_pmt_zero is not None:\n",
      "        result += \"# 0  \".rjust(max_field_length) + \" -- PMT zero is fake!\\n\"\n",
      "        result += (\"%s, \" % for_pmt_zero).rjust(max_field_length)\n",
      "    for i, d in data.iterrows():\n",
      "        if i%values_per_line == 0:\n",
      "            result += \"\\n\" + ''.join([str(\"# %s  \" % ch).rjust(max_field_length) \n",
      "                                      for ch in range(i+1,\n",
      "                                                      min(i+1+values_per_line, len(data)+1))]) + \"\\n\"\n",
      "        result += (\"%s, \" % d[data_column]).rjust(max_field_length)\n",
      "    return result + \"\\n%s]\" % tab"
     ],
     "language": "python",
     "metadata": {},
     "outputs": []
    },
    {
     "cell_type": "code",
     "collapsed": false,
     "input": [
      "print(make_config_for(\"sigma\", \"gain_sigmas\"))"
     ],
     "language": "python",
     "metadata": {},
     "outputs": []
    },
    {
     "cell_type": "code",
     "collapsed": false,
     "input": [
      "print(make_config_for(\"sigma\", \"gain_sigmas\"))"
     ],
     "language": "python",
     "metadata": {},
     "outputs": []
    }
   ],
   "metadata": {}
  }
 ]
}