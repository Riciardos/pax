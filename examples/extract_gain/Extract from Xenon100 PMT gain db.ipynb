{
 "metadata": {
  "name": "",
  "signature": "sha256:7b92f65db5f5b126c3edc1d5464c52fd5b05faabefc0caa89c73deaad05f5e96"
 },
 "nbformat": 3,
 "nbformat_minor": 0,
 "worksheets": [
  {
   "cells": [
    {
     "cell_type": "code",
     "collapsed": false,
     "input": [
      "import pandas"
     ],
     "language": "python",
     "metadata": {},
     "outputs": []
    },
    {
     "cell_type": "code",
     "collapsed": false,
     "input": [
      "data = pandas.read_csv('all120326_1544.gain', sep=\"\\(Hz\\)\\s*|\\s+\")\n",
      "data.head()"
     ],
     "language": "python",
     "metadata": {},
     "outputs": []
    },
    {
     "cell_type": "code",
     "collapsed": false,
     "input": [
      "def make_config_for(data_column, title=None, values_per_line=5, max_field_lenth=18, for_pmt_zero=0):\n",
      "    tab = \"    \"\n",
      "    if title is None:\n",
      "        title=data_column\n",
      "    result = str(title) + \" = {\\n\" + tab\n",
      "    if for_pmt_zero is not None:\n",
      "        result += \"0:   %s,\" % for_pmt_zero\n",
      "    for i, d in data.iterrows():\n",
      "        if i%values_per_line == 0:\n",
      "            result += \"\\n\" + tab\n",
      "        result += (\"%d: \" % d['#PMT']).ljust(5)\n",
      "        result += (\"%s, \" % d[data_column]).ljust(max_field_lenth - 5)\n",
      "    return result + \"\\n%s}\" % tab"
     ],
     "language": "python",
     "metadata": {},
     "outputs": []
    },
    {
     "cell_type": "code",
     "collapsed": false,
     "input": [
      "print(make_config_for(\"gain\", \"gains\"))"
     ],
     "language": "python",
     "metadata": {},
     "outputs": []
    },
    {
     "cell_type": "code",
     "collapsed": false,
     "input": [
      "print(make_config_for(\"sigma\", \"gain_sigmas\"))"
     ],
     "language": "python",
     "metadata": {},
     "outputs": []
    }
   ],
   "metadata": {}
  }
 ]
}