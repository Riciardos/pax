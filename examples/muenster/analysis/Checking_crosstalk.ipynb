{
 "cells": [
  {
   "cell_type": "code",
   "execution_count": 1,
   "metadata": {
    "collapsed": true
   },
   "outputs": [],
   "source": [
    "import h5py\n",
    "import tables\n",
    "from pandas import Series, DataFrame\n",
    "import pandas as pd\n",
    "import numpy as np\n",
    "import matplotlib.pyplot as plt\n",
    "\n"
   ]
  },
  {
   "cell_type": "code",
   "execution_count": null,
   "metadata": {
    "collapsed": true
   },
   "outputs": [],
   "source": [
    "#%matplotlib inline # comment this line if you want to have a plot window"
   ]
  },
  {
   "cell_type": "code",
   "execution_count": 31,
   "metadata": {
    "collapsed": true
   },
   "outputs": [],
   "source": [
    "simultaneous    = '/home/axel/ownCloud/documents/Masterarbeit/TPC/rawdata/LED_test_100Hz_1.4V_500ns_512samps_20150729.hdf5'\n",
    "delayed_1us = '/home/axel/ownCloud/documents/Masterarbeit/TPC/rawdata/LED_test_100Hz_1.4V_500ns_trigger_1000ns_delayed_512samps_20150729.hdf5'\n",
    "whole_time = '/home/axel/ownCloud/documents/Masterarbeit/TPC/rawdata/LED_test_100Hz_1.4V_5120ns_trigger_2560ns_delayed_512samps_20150729.hdf5'"
   ]
  },
  {
   "cell_type": "code",
   "execution_count": 32,
   "metadata": {
    "collapsed": false
   },
   "outputs": [],
   "source": [
    "hits_simultaneous = pd.read_hdf(simultaneous, \"Hit\")\n",
    "hits_delayed_1us = pd.read_hdf(delayed_1us, \"Hit\")\n",
    "hits_whole_time = pd.read_hdf(whole_time, \"Hit\")"
   ]
  },
  {
   "cell_type": "code",
   "execution_count": null,
   "metadata": {
    "collapsed": false
   },
   "outputs": [],
   "source": [
    "hits_simultaneous[\"center\"].hist(bins=1000,histtype=\"step\",label=\"500ns pulse, simultanous trigger\",alpha=0.5,color=\"red\")\n",
    "hits_delayed_1us[\"center\"].hist(bins=1000, histtype=\"step\",label=\"500ns pulse, trigger 1µs delayed\", alpha=0.5,color=\"green\")\n",
    "hits_whole_time[\"center\"].hist(bins=10000,histtype=\"step\", label=\"5120ns, trigger 2.560µs delayed\", alpha=0.5,color=\"blue\")\n",
    "plt.yscale(\"log\")\n",
    "plt.legend()\n",
    "plt.xlim(0,5120)\n",
    "plt.title(\"center position of hits\")\n",
    "plt.xlabel(\"time in µs\")\n",
    "plt.ylabel(\"# of hits\")\n",
    "plt.show()"
   ]
  },
  {
   "cell_type": "code",
   "execution_count": 19,
   "metadata": {
    "collapsed": true
   },
   "outputs": [],
   "source": [
    "plt.title(\"spectrum of all pmts with shared gain 2e6\")\n",
    "plt.xlabel(\"hit area in # of pe\")\n",
    "plt.ylabel(\"counts\")\n",
    "plt.show()"
   ]
  },
  {
   "cell_type": "code",
   "execution_count": 20,
   "metadata": {
    "collapsed": false
   },
   "outputs": [
    {
     "data": {
      "text/plain": [
       "count    380755.000000\n",
       "mean          4.527233\n",
       "std           5.939860\n",
       "min           0.059388\n",
       "25%           0.918365\n",
       "50%           2.680402\n",
       "75%           5.990649\n",
       "max         355.749878\n",
       "Name: area, dtype: float64"
      ]
     },
     "execution_count": 20,
     "metadata": {},
     "output_type": "execute_result"
    }
   ],
   "source": [
    "hits[\"area\"].describe()"
   ]
  },
  {
   "cell_type": "code",
   "execution_count": 52,
   "metadata": {
    "collapsed": false
   },
   "outputs": [
    {
     "name": "stderr",
     "output_type": "stream",
     "text": [
      "/home/axel/anaconda3/lib/python3.4/site-packages/matplotlib/axes/_axes.py:475: UserWarning: No labelled objects found. Use label='...' kwarg on individual plots.\n",
      "  warnings.warn(\"No labelled objects found. \"\n"
     ]
    },
    {
     "data": {
      "text/plain": [
       "(0, 5120)"
      ]
     },
     "execution_count": 52,
     "metadata": {},
     "output_type": "execute_result"
    }
   ],
   "source": []
  },
  {
   "cell_type": "code",
   "execution_count": 36,
   "metadata": {
    "collapsed": true
   },
   "outputs": [],
   "source": [
    "DataFrame.hist?"
   ]
  },
  {
   "cell_type": "code",
   "execution_count": null,
   "metadata": {
    "collapsed": true
   },
   "outputs": [],
   "source": []
  }
 ],
 "metadata": {
  "kernelspec": {
   "display_name": "Python 3",
   "language": "python",
   "name": "python3"
  },
  "language_info": {
   "codemirror_mode": {
    "name": "ipython",
    "version": 3
   },
   "file_extension": ".py",
   "mimetype": "text/x-python",
   "name": "python",
   "nbconvert_exporter": "python",
   "pygments_lexer": "ipython3",
   "version": "3.4.3"
  }
 },
 "nbformat": 4,
 "nbformat_minor": 0
}
