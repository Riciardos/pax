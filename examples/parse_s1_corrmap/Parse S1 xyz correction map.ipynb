{
 "cells": [
  {
   "cell_type": "code",
   "execution_count": null,
   "metadata": {
    "collapsed": true
   },
   "outputs": [],
   "source": [
    "import numpy as np\n",
    "from numpy.lib.recfunctions import rec_append_fields\n",
    "import csv\n",
    "from pax import core, units"
   ]
  },
  {
   "cell_type": "code",
   "execution_count": null,
   "metadata": {
    "collapsed": false
   },
   "outputs": [],
   "source": [
    "# Load the map text file\n",
    "with open('s1xyzmap-20111215.dat') as lymapfile:\n",
    "    \n",
    "    tuples = []\n",
    "    for i, row in enumerate(lymapfile):\n",
    "        if i == 0:\n",
    "            continue\n",
    "        tuples.append(tuple(map(float, row.split())))\n",
    "        \n",
    "    data = np.array(tuples, dtype=[('z', int), \n",
    "                                   ('t', int),\n",
    "                                   ('r', int),\n",
    "                                   ('zmid', float),\n",
    "                                   ('tmid', float),\n",
    "                                   ('rmid', float),\n",
    "                                   ('ly', float),\n",
    "                                   ('errly', float),])\n",
    "\n",
    "# Convert to pax units\n",
    "for field in ('z', 'r', 'zmid', 'rmid'):\n",
    "    data[field] *= units.mm\n",
    "data['z'] *= -1\n",
    "data['zmid'] *= -1\n",
    "    \n",
    "# Convert (r, theta) to (x, y)\n",
    "data = rec_append_fields(data, 'xmid', data['rmid'] * np.cos(data['tmid']))\n",
    "data = rec_append_fields(data, 'ymid', data['rmid'] * np.sin(data['tmid']))"
   ]
  },
  {
   "cell_type": "code",
   "execution_count": null,
   "metadata": {
    "collapsed": false
   },
   "outputs": [],
   "source": [
    "# Normalize the average correction to 0\n",
    "data['ly'] /= data['ly'].mean()"
   ]
  },
  {
   "cell_type": "code",
   "execution_count": null,
   "metadata": {
    "collapsed": false
   },
   "outputs": [],
   "source": [
    "# Write the map to JSON\n",
    "import textwrap\n",
    "desc =  textwrap.dedent(\"\"\"\n",
    "                        The XENON100 S1 mean light yield map used in Xerawdp 0.4.5.\n",
    "                        Extracted from data by Cecilia in 2011,\n",
    "                        see xenon:xenon100:analysis:cecilia:s13dcorrectionmap.\n",
    "                        Ripped from s1xyzmap-20111215.dat by Jelle, October 2015.\n",
    "                        \"\"\"[1:])\n",
    "import time\n",
    "mapd = dict(name='XENON100 S1(x,y,z) relative light yield map',\n",
    "            description=desc,\n",
    "            coordinate_system=np.vstack((data['xmid'], data['ymid'], data['zmid'])).T.tolist(),\n",
    "            map=(data['ly']).tolist(),\n",
    "            irregular=True,\n",
    "            timestamp=time.time())\n",
    "\n",
    "import json\n",
    "with open('s1_xyz_XENON100_xerawdp045.json', mode='w') as outfile:\n",
    "    json.dump(mapd, outfile)"
   ]
  },
  {
   "cell_type": "markdown",
   "metadata": {},
   "source": [
    "# 3d Scatter"
   ]
  },
  {
   "cell_type": "code",
   "execution_count": null,
   "metadata": {
    "collapsed": false
   },
   "outputs": [],
   "source": [
    "import matplotlib.pyplot as plt\n",
    "from mpl_toolkits.mplot3d import Axes3D\n",
    "%matplotlib inline\n",
    "# Remember Z is flipped and correction is inverted!\n",
    "fig = plt.figure(figsize=(12, 12))\n",
    "ax = fig.add_subplot(111, projection='3d')\n",
    "sc = ax.scatter(data['xmid'], data['ymid'], data['zmid'],\n",
    "                c=1/data['ly'])\n",
    "plt.colorbar(sc, label='Multiplicative correction value')\n",
    "plt.show()"
   ]
  },
  {
   "cell_type": "markdown",
   "metadata": {},
   "source": [
    "Now we'll plot the map using pax, to verify everything went correctly:"
   ]
  },
  {
   "cell_type": "code",
   "execution_count": null,
   "metadata": {
    "collapsed": false
   },
   "outputs": [],
   "source": [
    "mypax = core.Processor()\n",
    "s1map = mypax.get_plugin_by_name('BasicInteractionProperties').s1_correction_map"
   ]
  },
  {
   "cell_type": "code",
   "execution_count": null,
   "metadata": {
    "collapsed": false
   },
   "outputs": [],
   "source": [
    "from tqdm import tqdm\n",
    "import matplotlib.pyplot as plt\n",
    "from mpl_toolkits.mplot3d import Axes3D\n",
    "%matplotlib inline\n",
    "#%matplotlib qt\n",
    "fig = plt.figure(figsize=(12, 12))\n",
    "ax = fig.add_subplot(111, projection='3d')\n",
    "points = []\n",
    "values = []\n",
    "for i in tqdm(range(len(data['xmid']))):\n",
    "    points.append((data[i]['xmid'], data[i]['ymid'], data[i]['zmid']))\n",
    "    values.append(s1map.get_value(*points[-1]))\n",
    "points = np.array(points)\n",
    "values = np.array(values)\n",
    "                          \n",
    "sc = ax.scatter(*points.T, c=values)\n",
    "plt.colorbar(sc, label='Correction value')\n",
    "plt.show()"
   ]
  },
  {
   "cell_type": "markdown",
   "metadata": {},
   "source": [
    "# Z-slices"
   ]
  },
  {
   "cell_type": "code",
   "execution_count": null,
   "metadata": {
    "collapsed": false
   },
   "outputs": [],
   "source": [
    "# Z-slices of map (compare with gallery 5 in Cecilia's note)\n",
    "points = {}\n",
    "for z in np.unique(data['zmid']):\n",
    "    plt.figure(figsize=(12, 10))\n",
    "    for r in np.unique(data['rmid']):    \n",
    "        this_data = data[(data['rmid'] == r) & (data['zmid'] == z)]\n",
    "        plt.errorbar(this_data['tmid'], this_data['ly'], yerr=this_data['errly'], \n",
    "                     label='r=%s cm' % (r/10))\n",
    "    plt.xlabel('Theta (degrees)')\n",
    "    plt.ylabel('Light yield')\n",
    "    plt.legend()\n",
    "    plt.title('z = %s cm' % (z/10))\n",
    "    plt.show()"
   ]
  }
 ],
 "metadata": {
  "kernelspec": {
   "display_name": "Python 3",
   "language": "python",
   "name": "python3"
  },
  "language_info": {
   "codemirror_mode": {
    "name": "ipython",
    "version": 3
   },
   "file_extension": ".py",
   "mimetype": "text/x-python",
   "name": "python",
   "nbconvert_exporter": "python",
   "pygments_lexer": "ipython3",
   "version": "3.4.3"
  }
 },
 "nbformat": 4,
 "nbformat_minor": 0
}
