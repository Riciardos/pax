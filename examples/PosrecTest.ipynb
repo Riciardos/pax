{
 "cells": [
  {
   "cell_type": "code",
   "execution_count": null,
   "metadata": {
    "collapsed": false
   },
   "outputs": [],
   "source": [
    "from pax import core, utils, datastructure\n",
    "from tqdm import tqdm\n",
    "import matplotlib\n",
    "import matplotlib.pyplot as plt\n",
    "%matplotlib inline\n",
    "matplotlib.rc('font', size=16)\n",
    "import numpy as np"
   ]
  },
  {
   "cell_type": "code",
   "execution_count": null,
   "metadata": {
    "collapsed": false
   },
   "outputs": [],
   "source": [
    "# Make sure same PMTs are dead as Neural Net expects\n",
    "# Well, \"PMT 0\" is also dead :-)\n",
    "gains = np.ones(243) * 2e6\n",
    "dead_pmts = np.array([0, 9, 12, 39, 58])\n",
    "gains[dead_pmts] = 0"
   ]
  },
  {
   "cell_type": "code",
   "execution_count": null,
   "metadata": {
    "collapsed": false
   },
   "outputs": [],
   "source": [
    "# Load the posrec plugins\n",
    "plugins_to_test = [\n",
    "    ('NeuralNet', 'PosRecNeuralNet'),\n",
    "    ('PosSimple', 'PosRecWeightedSum'),\n",
    "    #('PosRecChiSquareGamma', 'PosRecChiSquareGamma'),\n",
    "    ('MaxPMT', 'PosRecMaxPMT'),\n",
    "]\n",
    "mypax = core.Processor(config_names=['XENON100'], config_dict={\n",
    "    'pax': {\n",
    "            'plugin_group_names': ['test'],\n",
    "            'test':               [\"%s.%s\" % (a, b) for a, b in plugins_to_test],},\n",
    "    'DEFAULT': {\n",
    "            'gains': gains,}\n",
    "})\n",
    "posrec_plugin = {b: mypax.get_plugin_by_name(b) for a,b in plugins_to_test}"
   ]
  },
  {
   "cell_type": "code",
   "execution_count": null,
   "metadata": {
    "collapsed": false
   },
   "outputs": [],
   "source": [
    "itpm = utils.InterpolatingMap(utils.data_file_name('s2_xy_lce_map_XENON100_Xerawdp0.4.5.json.gz'))"
   ]
  },
  {
   "cell_type": "code",
   "execution_count": null,
   "metadata": {
    "collapsed": false
   },
   "outputs": [],
   "source": [
    "# Check that sampling algorithm is correct\n",
    "\n",
    "def uniform_circle_rv(radius, n_samples):\n",
    "    xs = []\n",
    "    ys = []\n",
    "    for sample_i in range(n_samples):\n",
    "        while True:\n",
    "            x = np.random.uniform(-16, 16)\n",
    "            y = np.random.uniform(-16, 16)\n",
    "            if x**2 + y**2 <= radius**2:\n",
    "                break\n",
    "        xs.append(x)\n",
    "        ys.append(y)\n",
    "    return xs, ys\n",
    "\n",
    "detector_radius = 15.8\n",
    "\n",
    "xs, ys = uniform_circle_rv(detector_radius, 10000)\n",
    "plt.figure(figsize=(5,5))\n",
    "plt.scatter(xs, ys, s=1, edgecolor=None, alpha=0.2)\n",
    "plt.show()"
   ]
  },
  {
   "cell_type": "code",
   "execution_count": null,
   "metadata": {
    "collapsed": false
   },
   "outputs": [],
   "source": [
    "def euclideandifference(x1, y1, x2, y2):\n",
    "    return ((x1-x2)**2 + (y1-y2)**2)**0.5"
   ]
  },
  {
   "cell_type": "code",
   "execution_count": null,
   "metadata": {
    "collapsed": false
   },
   "outputs": [],
   "source": [
    "n_pe = 690\n",
    "#n_pe = 100000\n",
    "n_trials = 2000\n",
    "n_peaks = 1   \n",
    "rps = {}\n",
    "differences = {}\n",
    "\n",
    "xs, ys = uniform_circle_rv(detector_radius, n_trials)\n",
    "\n",
    "# TODO: if n_peaks != 1, tile xs, ys\n",
    "\n",
    "for sample_i in tqdm(range(n_trials)):\n",
    "    x = xs[sample_i]\n",
    "    y = ys[sample_i]\n",
    "\n",
    "    # Calculate cumulative sum of relative LCEs at this position\n",
    "    # The fake PMT 0 always gets LCE 0 to ensure no photon enters into it\n",
    "    lces = [0] + [itpm.get_value(x, y, map_name=str(ch)) for ch in range(1, 98+1)]\n",
    "    lces = np.array(lces)\n",
    "    lces_cum = np.cumsum(lces)\n",
    "\n",
    "    # Generate n_pe * n_peaks_per_position photons\n",
    "    channel_for_p = np.searchsorted(lces_cum, np.random.uniform(0, 1, n_pe * n_peaks))\n",
    "    \n",
    "    # Delete photons in dead pmts\n",
    "    channel_for_p = channel_for_p[True ^ np.in1d(channel_for_p, dead_pmts)]\n",
    "\n",
    "    # Split photons into individual peaks, add them into a single event \n",
    "    e = datastructure.Event.empty_event()\n",
    "    for hitpattern_top in channel_for_p.reshape(n_peaks, -1):\n",
    "        hitp = np.concatenate((np.bincount(hitpattern_top, minlength=98 + 1), np.zeros(242-98)))\n",
    "        \n",
    "        # Clip hitpattern at 5k pe / channel to simulate saturation\n",
    "        # TODO: where should we clip? 5k is just a random guesss\n",
    "        hitp = np.clip(hitp, 0, 5 * 10**3)\n",
    "        \n",
    "        e.peaks.append(datastructure.Peak({\n",
    "            'left':  5,\n",
    "            'right': 9,\n",
    "            'type':  'S2',\n",
    "            'area': float('inf'),\n",
    "            'detector':  'tpc',\n",
    "            'area_per_channel': hitp}))\n",
    "\n",
    "    # Run posrec plugins, collect results\n",
    "    for pp_name, pp in posrec_plugin.items():\n",
    "        differences[pp_name] = differences.get(pp_name, [])\n",
    "        rps[pp_name] = rps.get(pp_name, [])\n",
    "        e = pp.transform_event(e)\n",
    "        for peak in e.peaks:\n",
    "            rp = peak.reconstructed_positions[-1]\n",
    "            rps[pp_name].append((rp.x, rp.y))\n",
    "            differences[pp_name].append(\n",
    "                euclideandifference(rp.x, rp.y, x, y))\n",
    "\n",
    "# Convert position list of tuples to numpy array\n",
    "for pp_name, pp in posrec_plugin.items():            \n",
    "    rps[pp_name] = np.array(rps[pp_name])"
   ]
  },
  {
   "cell_type": "code",
   "execution_count": null,
   "metadata": {
    "collapsed": false
   },
   "outputs": [],
   "source": [
    "plt.figure(figsize=(10, 7))\n",
    "for pp_name, pp in posrec_plugin.items():\n",
    "    plt.hist(differences[pp_name], bins=150, range=(0, 4), histtype='step', label=pp_name)\n",
    "plt.title('Posrec error for %d pe S2s' % n_pe)\n",
    "plt.legend(loc='upper right')\n",
    "plt.xlabel('Posrec error (cm)')\n",
    "plt.ylabel('# events')\n",
    "#plt.savefig('nice.png')\n",
    "plt.show()"
   ]
  },
  {
   "cell_type": "code",
   "execution_count": null,
   "metadata": {
    "collapsed": false,
    "scrolled": true
   },
   "outputs": [],
   "source": [
    "for pp_name in  posrec_plugin.keys():\n",
    "    plt.figure(figsize=(12,10))\n",
    "    plt.scatter(rps[pp_name][:,0], rps[pp_name][:,1],\n",
    "                c=differences[pp_name], marker='.', edgecolors='none')\n",
    "    plt.colorbar(label='Posrec error (cm)')\n",
    "    plt.title('Reconstructed positions, %dpe S2s, %s' % (n_pe, pp_name))\n",
    "    plt.xlim(-1.1*detector_radius, 1.1*detector_radius)\n",
    "    plt.ylim(-1.1*detector_radius, 1.1*detector_radius)\n",
    "    plt.show()"
   ]
  },
  {
   "cell_type": "code",
   "execution_count": null,
   "metadata": {
    "collapsed": false
   },
   "outputs": [],
   "source": [
    "from scipy.stats import binned_statistic_2d\n",
    "import numpy.ma as ma\n",
    "import matplotlib.cm as cm\n",
    "\n",
    "def bin_centers(bin_edges):\n",
    "    return 0.5*(bin_edges[1:] + bin_edges[:-1])\n",
    "\n",
    "def twod_stat_plot(x, y, z, statistic='mean', bins=10, range=None, vrange=None, cblabel=None):\n",
    "    if vrange is None:\n",
    "        vrange = (None, None)\n",
    "    result, xbinedges, ybinedges, binnumbers = binned_statistic_2d(\n",
    "        x, y, z,\n",
    "        bins=bins,\n",
    "        statistic=statistic,\n",
    "        range=range,\n",
    "    )\n",
    "    xbincenters = bin_centers(xbinedges)\n",
    "    ybincenters = bin_centers(ybinedges)\n",
    "    xx, yy = np.meshgrid(xbincenters, ybincenters)    \n",
    "\n",
    "    radius = 15.8 - 2\n",
    "    result[\n",
    "        xx**2 + yy**2 > radius**2\n",
    "    ] = float('nan')    \n",
    "    Zm = ma.masked_where(np.isnan(result),result)\n",
    "    plt.figure(figsize=(12,10))\n",
    "    plt.pcolor(Zm, vmin=vrange[0], vmax=vrange[1]\n",
    "               #cmap=cm.hot\n",
    "    )\n",
    "    plt.colorbar(label=cblabel)"
   ]
  },
  {
   "cell_type": "code",
   "execution_count": null,
   "metadata": {
    "collapsed": false
   },
   "outputs": [],
   "source": [
    "for pp_name in  posrec_plugin.keys():\n",
    "    twod_stat_plot(ys, xs, differences[pp_name],\n",
    "                   bins=40, vrange=(0,5),                   \n",
    "                   cblabel='Mean posrec error')\n",
    "    plt.title('Posrec error for %s' % pp_name)"
   ]
  }
 ],
 "metadata": {
  "kernelspec": {
   "display_name": "Python 3",
   "language": "python",
   "name": "python3"
  },
  "language_info": {
   "codemirror_mode": {
    "name": "ipython",
    "version": 3
   },
   "file_extension": ".py",
   "mimetype": "text/x-python",
   "name": "python",
   "nbconvert_exporter": "python",
   "pygments_lexer": "ipython3",
   "version": "3.4.1"
  }
 },
 "nbformat": 4,
 "nbformat_minor": 0
}
