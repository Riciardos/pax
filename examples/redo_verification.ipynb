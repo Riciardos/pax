{
 "metadata": {
  "name": "",
  "signature": "sha256:b80435d8416bf49b816f6564c9ef444d1ab1bf4a9ad25816f64ee7661f4c2a7e"
 },
 "nbformat": 3,
 "nbformat_minor": 0,
 "worksheets": [
  {
   "cells": [
    {
     "cell_type": "code",
     "collapsed": false,
     "input": [
      "\"\"\"\n",
      "Utility to verify that calling --redo on a file gives identical results\n",
      "\"\"\""
     ],
     "language": "python",
     "metadata": {},
     "outputs": []
    },
    {
     "cell_type": "code",
     "collapsed": false,
     "input": [
      "import pandas\n",
      "import json\n",
      "import numpy as np\n",
      "from pandas.util.testing import assert_frame_equal"
     ],
     "language": "python",
     "metadata": {},
     "outputs": [],
     "prompt_number": 18
    },
    {
     "cell_type": "code",
     "collapsed": false,
     "input": [
      "orig = pandas.HDFStore('bla.hdf')\n",
      "redone = pandas.HDFStore('bla_redone.hdf')"
     ],
     "language": "python",
     "metadata": {},
     "outputs": [],
     "prompt_number": 2
    },
    {
     "cell_type": "code",
     "collapsed": false,
     "input": [
      "# Compare data -- should all be ok, except for pax_info (indexed by timestamp)\n",
      "\n",
      "for table in redone.keys():\n",
      "    if table not in orig:\n",
      "        print(\"%s is not in orig!\" % table)\n",
      "    if len(orig[table]) != len(redone[table]):\n",
      "        print(\"%s: orig has %s rows, redone has %s!\")\n",
      "        continue\n",
      "    try:\n",
      "        orig[table] == redone[table]\n",
      "    except ValueError:\n",
      "        print(\"%s: orig and redone have same length, but different indices!\" % table)\n",
      "        continue\n",
      "    try:\n",
      "        assert_frame_equal(orig[table], redone[table])\n",
      "        print(\"%s: ok.\" % table)\n",
      "    except AssertionError:\n",
      "        print(\"%s: orig and redone have different values!\" % table)"
     ],
     "language": "python",
     "metadata": {},
     "outputs": [
      {
       "output_type": "stream",
       "stream": "stdout",
       "text": [
        "/ChannelPeak: ok.\n",
        "/Event: ok."
       ]
      },
      {
       "output_type": "stream",
       "stream": "stdout",
       "text": [
        "\n",
        "/Peak: ok."
       ]
      },
      {
       "output_type": "stream",
       "stream": "stdout",
       "text": [
        "\n",
        "/ReconstructedPosition: ok."
       ]
      },
      {
       "output_type": "stream",
       "stream": "stdout",
       "text": [
        "\n",
        "/area_per_channel: ok."
       ]
      },
      {
       "output_type": "stream",
       "stream": "stdout",
       "text": [
        "\n",
        "/does_channel_contribute: ok."
       ]
      },
      {
       "output_type": "stream",
       "stream": "stdout",
       "text": [
        "\n",
        "/does_channel_have_noise: ok."
       ]
      },
      {
       "output_type": "stream",
       "stream": "stdout",
       "text": [
        "\n",
        "/is_channel_bad: ok."
       ]
      },
      {
       "output_type": "stream",
       "stream": "stdout",
       "text": [
        "\n",
        "/pax_info: orig and redone have same length, but different indices!\n"
       ]
      }
     ],
     "prompt_number": 19
    },
    {
     "cell_type": "code",
     "collapsed": false,
     "input": [
      "# Compare configurations -- should be different only for output_name\n",
      "orig_config = json.loads( orig['pax_info'].iloc[0]['configuration_json'] )\n",
      "redone_config = json.loads( redone['pax_info'].iloc[0]['configuration_json'] )\n",
      "\n",
      "def compare_configs(conf1, conf2):\n",
      "    for k,v in conf1.items():\n",
      "        if not k in conf2:\n",
      "            print(\"%s doesn't appear in conf2 config!\" % k)\n",
      "        if conf1[k] != conf2[k]:\n",
      "            print(\"%s is different...\" % k)\n",
      "            for q in conf1[k].keys():\n",
      "                if q not in conf2[k]:\n",
      "                    print(\"\\t%s is not in conf2!\" % q)\n",
      "                elif conf1[k][q] != conf2[k][q]:\n",
      "                    print(\"\\t%s: conf1 has %s, conf2 %s\" % (q, conf1[k][q], conf2[k][q]))\n",
      "                    \n",
      "compare_configs(orig_config, redone_config)\n",
      "print(\"\\n\")\n",
      "compare_configs(redone_config, orig_config)"
     ],
     "language": "python",
     "metadata": {},
     "outputs": [
      {
       "output_type": "stream",
       "stream": "stdout",
       "text": [
        "pax is different...\n",
        "\toutput_name: conf1 has bla, conf2 bla_redone\n",
        "Pandas.WritePandas is different...\n",
        "\toutput_name: conf1 has bla, conf2 bla_redone\n",
        "\n",
        "\n",
        "pax is different...\n",
        "\toutput_name: conf1 has bla_redone, conf2 bla\n",
        "Pandas.WritePandas is different...\n",
        "\toutput_name: conf1 has bla_redone, conf2 bla\n"
       ]
      }
     ],
     "prompt_number": 22
    },
    {
     "cell_type": "code",
     "collapsed": false,
     "input": [
      "orig['pax_info']"
     ],
     "language": "python",
     "metadata": {},
     "outputs": [
      {
       "html": [
        "<div style=\"max-height:1000px;max-width:1500px;overflow:auto;\">\n",
        "<table border=\"1\" class=\"dataframe\">\n",
        "  <thead>\n",
        "    <tr style=\"text-align: right;\">\n",
        "      <th></th>\n",
        "      <th>configuration_json</th>\n",
        "      <th>pax_version</th>\n",
        "    </tr>\n",
        "    <tr>\n",
        "      <th>timestamp</th>\n",
        "      <th></th>\n",
        "      <th></th>\n",
        "    </tr>\n",
        "  </thead>\n",
        "  <tbody>\n",
        "    <tr>\n",
        "      <th>1.421240e+09</th>\n",
        "      <td> {\"PosSimple.PosRecWeightedSum\": {\"channels_to_...</td>\n",
        "      <td> 1.4.0</td>\n",
        "    </tr>\n",
        "  </tbody>\n",
        "</table>\n",
        "</div>"
       ],
       "metadata": {},
       "output_type": "pyout",
       "prompt_number": 20,
       "text": [
        "                                             configuration_json pax_version\n",
        "timestamp                                                                  \n",
        "1.421240e+09  {\"PosSimple.PosRecWeightedSum\": {\"channels_to_...       1.4.0"
       ]
      }
     ],
     "prompt_number": 20
    },
    {
     "cell_type": "code",
     "collapsed": false,
     "input": [
      "redone['pax_info']"
     ],
     "language": "python",
     "metadata": {},
     "outputs": [
      {
       "html": [
        "<div style=\"max-height:1000px;max-width:1500px;overflow:auto;\">\n",
        "<table border=\"1\" class=\"dataframe\">\n",
        "  <thead>\n",
        "    <tr style=\"text-align: right;\">\n",
        "      <th></th>\n",
        "      <th>configuration_json</th>\n",
        "      <th>pax_version</th>\n",
        "    </tr>\n",
        "    <tr>\n",
        "      <th>timestamp</th>\n",
        "      <th></th>\n",
        "      <th></th>\n",
        "    </tr>\n",
        "  </thead>\n",
        "  <tbody>\n",
        "    <tr>\n",
        "      <th>1.421240e+09</th>\n",
        "      <td> {\"BigPeakProcessing.DeleteSmallPeaks\": {\"prune...</td>\n",
        "      <td> 1.4.0</td>\n",
        "    </tr>\n",
        "  </tbody>\n",
        "</table>\n",
        "</div>"
       ],
       "metadata": {},
       "output_type": "pyout",
       "prompt_number": 21,
       "text": [
        "                                             configuration_json pax_version\n",
        "timestamp                                                                  \n",
        "1.421240e+09  {\"BigPeakProcessing.DeleteSmallPeaks\": {\"prune...       1.4.0"
       ]
      }
     ],
     "prompt_number": 21
    }
   ],
   "metadata": {}
  }
 ]
}